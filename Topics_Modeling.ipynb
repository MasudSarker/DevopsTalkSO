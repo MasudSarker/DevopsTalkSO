{
 "cells": [
  {
   "cell_type": "code",
   "execution_count": 1,
   "metadata": {},
   "outputs": [
    {
     "data": {
      "text/html": [
       "<div>\n",
       "<style scoped>\n",
       "    .dataframe tbody tr th:only-of-type {\n",
       "        vertical-align: middle;\n",
       "    }\n",
       "\n",
       "    .dataframe tbody tr th {\n",
       "        vertical-align: top;\n",
       "    }\n",
       "\n",
       "    .dataframe thead th {\n",
       "        text-align: right;\n",
       "    }\n",
       "</style>\n",
       "<table border=\"1\" class=\"dataframe\">\n",
       "  <thead>\n",
       "    <tr style=\"text-align: right;\">\n",
       "      <th></th>\n",
       "      <th>Id</th>\n",
       "      <th>AnswerCount</th>\n",
       "      <th>Body</th>\n",
       "      <th>CommentCount</th>\n",
       "      <th>CreationDate</th>\n",
       "      <th>FavoriteCount</th>\n",
       "      <th>PostTypeId</th>\n",
       "      <th>Score</th>\n",
       "      <th>Tags</th>\n",
       "      <th>Title</th>\n",
       "      <th>ViewCount</th>\n",
       "    </tr>\n",
       "  </thead>\n",
       "  <tbody>\n",
       "    <tr>\n",
       "      <th>0</th>\n",
       "      <td>56364909</td>\n",
       "      <td>0</td>\n",
       "      <td>&lt;p&gt;We are creating pvc using yml file.  The pv...</td>\n",
       "      <td>2</td>\n",
       "      <td>May 29 2019  4:26PM</td>\n",
       "      <td>0</td>\n",
       "      <td>1</td>\n",
       "      <td>0</td>\n",
       "      <td>&lt;kubernetes&gt;&lt;ansible&gt;</td>\n",
       "      <td>How to validate all the pvc created by yml usi...</td>\n",
       "      <td>26</td>\n",
       "    </tr>\n",
       "    <tr>\n",
       "      <th>1</th>\n",
       "      <td>56367775</td>\n",
       "      <td>2</td>\n",
       "      <td>&lt;p&gt;I am new to using Ansible-Playbooks, and I ...</td>\n",
       "      <td>0</td>\n",
       "      <td>May 29 2019  8:06PM</td>\n",
       "      <td>0</td>\n",
       "      <td>1</td>\n",
       "      <td>0</td>\n",
       "      <td>&lt;ansible&gt;&lt;splunk&gt;</td>\n",
       "      <td>Accepting Splunk license agreement using Ansib...</td>\n",
       "      <td>677</td>\n",
       "    </tr>\n",
       "    <tr>\n",
       "      <th>2</th>\n",
       "      <td>56367942</td>\n",
       "      <td>1</td>\n",
       "      <td>&lt;p&gt;How to run Ansible playbooks and commands f...</td>\n",
       "      <td>0</td>\n",
       "      <td>May 29 2019  8:20PM</td>\n",
       "      <td>0</td>\n",
       "      <td>1</td>\n",
       "      <td>0</td>\n",
       "      <td>&lt;python&gt;&lt;ansible&gt;</td>\n",
       "      <td>Calling Ansible adhoc commands/playbooks in py...</td>\n",
       "      <td>305</td>\n",
       "    </tr>\n",
       "    <tr>\n",
       "      <th>3</th>\n",
       "      <td>56368589</td>\n",
       "      <td>1</td>\n",
       "      <td>&lt;p&gt;I have the following ansible playbooks:&lt;/p&gt;...</td>\n",
       "      <td>2</td>\n",
       "      <td>May 29 2019  9:12PM</td>\n",
       "      <td>0</td>\n",
       "      <td>1</td>\n",
       "      <td>-1</td>\n",
       "      <td>&lt;ansible&gt;</td>\n",
       "      <td>using the unix command \"source\" in ansible</td>\n",
       "      <td>209</td>\n",
       "    </tr>\n",
       "    <tr>\n",
       "      <th>4</th>\n",
       "      <td>56369126</td>\n",
       "      <td>1</td>\n",
       "      <td>&lt;p&gt;I'm trying to move all files under a specif...</td>\n",
       "      <td>0</td>\n",
       "      <td>May 29 2019 10:03PM</td>\n",
       "      <td>0</td>\n",
       "      <td>1</td>\n",
       "      <td>0</td>\n",
       "      <td>&lt;ansible&gt;&lt;remote-server&gt;&lt;ansible-2.x&gt;</td>\n",
       "      <td>Using Ansible copy module for remote to remote...</td>\n",
       "      <td>414</td>\n",
       "    </tr>\n",
       "  </tbody>\n",
       "</table>\n",
       "</div>"
      ],
      "text/plain": [
       "         Id  AnswerCount                                               Body  \\\n",
       "0  56364909            0  <p>We are creating pvc using yml file.  The pv...   \n",
       "1  56367775            2  <p>I am new to using Ansible-Playbooks, and I ...   \n",
       "2  56367942            1  <p>How to run Ansible playbooks and commands f...   \n",
       "3  56368589            1  <p>I have the following ansible playbooks:</p>...   \n",
       "4  56369126            1  <p>I'm trying to move all files under a specif...   \n",
       "\n",
       "   CommentCount         CreationDate  FavoriteCount  PostTypeId  Score  \\\n",
       "0             2  May 29 2019  4:26PM              0           1      0   \n",
       "1             0  May 29 2019  8:06PM              0           1      0   \n",
       "2             0  May 29 2019  8:20PM              0           1      0   \n",
       "3             2  May 29 2019  9:12PM              0           1     -1   \n",
       "4             0  May 29 2019 10:03PM              0           1      0   \n",
       "\n",
       "                                    Tags  \\\n",
       "0                  <kubernetes><ansible>   \n",
       "1                      <ansible><splunk>   \n",
       "2                      <python><ansible>   \n",
       "3                              <ansible>   \n",
       "4  <ansible><remote-server><ansible-2.x>   \n",
       "\n",
       "                                               Title  ViewCount  \n",
       "0  How to validate all the pvc created by yml usi...         26  \n",
       "1  Accepting Splunk license agreement using Ansib...        677  \n",
       "2  Calling Ansible adhoc commands/playbooks in py...        305  \n",
       "3         using the unix command \"source\" in ansible        209  \n",
       "4  Using Ansible copy module for remote to remote...        414  "
      ]
     },
     "execution_count": 1,
     "metadata": {},
     "output_type": "execute_result"
    }
   ],
   "source": [
    "# Gensim\n",
    "import gensim\n",
    "import gensim.corpora as corpora\n",
    "from gensim.utils import simple_preprocess\n",
    "from gensim import models\n",
    "from gensim.models import LdaModel, CoherenceModel\n",
    "from gensim.models.wrappers import LdaMallet\n",
    "import pprint\n",
    "\n",
    "# spacy for lemmatization\n",
    "import spacy\n",
    "from spacy.lang.en import English\n",
    "\n",
    "# Plotting tools\n",
    "import pyLDAvis\n",
    "import pyLDAvis.gensim \n",
    "import matplotlib.pyplot as plt\n",
    "%matplotlib inline\n",
    "\n",
    "import pandas as pd\n",
    "import numpy as np\n",
    "\n",
    "reviews_datasets = pd.read_csv(\"F:\\\\BUET\\Project\\\\Code\\\\Dataset\\\\ds_05032021_test.csv\",encoding=\"latin-1\")\n",
    "#reviews_datasets = reviews_datasets.head(20)\n",
    "reviews_datasets.dropna()\n",
    "obody = reviews_datasets['Body']\n",
    "cview= reviews_datasets['ViewCount']\n",
    "reviews_datasets.head()\n",
    "#reviews_datasets.to_csv('D:\\\\test.csv')\n",
    "\n"
   ]
  },
  {
   "cell_type": "code",
   "execution_count": 4,
   "metadata": {},
   "outputs": [],
   "source": [
    "from nltk import ngrams\n",
    "from nltk.tokenize import sent_tokenize\n",
    "import nltk\n",
    "\n",
    "import re\n",
    "from nltk.corpus import stopwords\n",
    "from nltk.tokenize import ToktokTokenizer\n",
    "from nltk.stem.snowball import SnowballStemmer\n",
    "\n",
    "tokenizer = ToktokTokenizer()\n",
    "stemmer = SnowballStemmer('english')\n",
    "stop_words = set(stopwords.words('english'))\n",
    "\n",
    "# Preprocess the text for vectorization\n",
    "# - Remove HTML\n",
    "# - Remove stopwords\n",
    "# - Remove special characters\n",
    "# - Convert to lowercase\n",
    "# - Stemming"
   ]
  },
  {
   "cell_type": "code",
   "execution_count": 5,
   "metadata": {},
   "outputs": [
    {
     "name": "stdout",
     "output_type": "stream",
     "text": [
      "['<p>We are creating pvc using yml file. The pvc entries are created dynamically based on user input. No of pvc to be created will be received as input and accordingly the number of pvc entries will be created in yml file then that yml file will be passed to Kubectl command to create pvc.</p> <pre><code>--- kind PersistentVolumeClaim apiVersion v1 metadata name pvc{{ currenttimestamp }} labels ansible {{ currenttimestamp }} spec accessModes - ReadWriteOnce resources requests storage {{ local_volume_size | default(10) }}Gi storageClassName sc{{ currenttimestamp }} --- kind PersistentVolumeClaim apiVersion v1 metadata name pvc{{ timestamp }} labels ansible {{ currenttimestamp }} spec accessModes - ReadWriteOnce resources requests storage {{ local_volume_size | default(10) }}Gi storageClassName sc{{ currenttimestamp }} </code></pre> <p>For single PVC validation , i am using below Ansible code</p> <pre><code>- name Verify whether the PVC is created command kubectl get pvc {{pvcname}} -o json register pvcresult </code></pre> <p>As the pvc generation yml is dynamic ,i need to get all the pvc name from yml then validate it. Is there any simple way there to check whether all the pvc mentioned in the yml is created?</p> ', '<p>I am new to using Ansible-Playbooks, and I am running into issues in accepting license agreements with Splunk.</p> <p>Any time I have shell run </p> <pre><code>/opt/splunkforwarder/bin/splunk start --accept-license --answer-yes </code></pre> <p>I get a continuous lockup that forces me to terminate the program.</p> <pre><code>TASK [acceptlicense] **************************************************************************************************************** ^C </code></pre> <p>Going into the box and running the command manually I am told the following</p> <pre><code>[root@##########-lab_env]# /opt/splunkforwarder/bin/splunk start --accept-license --answer-yes This appears to be your first time running this version of Splunk. Create credentials for the administrator account. Characters do not appear on the screen when you type the password. Password must contain at least * 8 total printable ASCII character(s). Please enter a new password </code></pre> <p>I have gone through several forums online that give help in answering what to do when met with specific prompts like this, but anytime I make an adjustment I am told something along the lines of</p> <blockquote> <p>ERROR! _______ is not a valid attribute for a Task</p> </blockquote> <p>At this point I am pretty stuck and unsure of how to continue.</p> <p>My code snippet is as follows</p> <pre><code>- hosts {{hostName}} become true become_user root become_method sudo tasks - name copy_splunk shell cp splunkforwarder-7.1.3-51d9cac7b837-linux-2.6-x86_64.rpm /opt/.; date; ls -l /opt args chdir /tmp register run_ll - debug var=run_ll.stdout_lines - name install rpm package shell rpm -ivh splunkforwarder-7.1.3-51d9cac7b837-linux-2.6-x86_64.rpm args chdir /tmp ignore_errors True register install_rpm - debug var=install_rpm.stdout_lines - name acceptlicense tags - install shell /opt/splunkforwarder/bin/splunk start --accept-license --answer-yes register accept_l - debug var=accept_l.stdout_lines </code></pre> <p>I have only done a couple of playbooks in the past, so this error is something new to me.</p> <p>Does anyone have any insight?</p> ', '<p>How to run Ansible playbooks and commands from python script</p> <p>Is this suggesgted way? <a href=https//docs.ansible.com/ansible/latest/dev_guide/developing_api.html#python-api-example rel=nofollow noreferrer>https//docs.ansible.com/ansible/latest/dev_guide/developing_api.html#python-api-example</a></p> <p>Called ansible playbook/adhoc commands runs smoothly inside python script</p> ']\n"
     ]
    }
   ],
   "source": [
    "import re\n",
    "\n",
    "# Convert to list\n",
    "data = reviews_datasets.Body.values.tolist()\n",
    "\n",
    "# Remove new line characters\n",
    "data = [re.sub(r'\\s+', ' ', sent) for sent in data]\n",
    "\n",
    "# Remove distracting single and double quotes\n",
    "data = [re.sub(\"\\'\", \"\", sent) for sent in data]\n",
    "data = [re.sub('\\\", \"', '', sent) for sent in data]\n",
    "data = [re.sub('\\\\\"', '', sent) for sent in data]\n",
    "data = [re.sub('\\\"', '', sent) for sent in data]\n",
    "data = [re.sub('[\\\\:\"]', '', sent) for sent in data]\n",
    "\n",
    "# Remove web links\n",
    "data = [re.sub(r'^https?:\\/\\/.*[\\r\\n]*', '', sent) for sent in data]\n",
    "\n",
    "print(data[:3])"
   ]
  },
  {
   "cell_type": "code",
   "execution_count": 6,
   "metadata": {},
   "outputs": [
    {
     "name": "stdout",
     "output_type": "stream",
     "text": [
      "[['we', 'are', 'creating', 'pvc', 'using', 'yml', 'file', 'the', 'pvc', 'entries', 'are', 'created', 'dynamically', 'based', 'on', 'user', 'input', 'no', 'of', 'pvc', 'to', 'be', 'created', 'will', 'be', 'received', 'as', 'input', 'and', 'accordingly', 'the', 'number', 'of', 'pvc', 'entries', 'will', 'be', 'created', 'in', 'yml', 'file', 'then', 'that', 'yml', 'file', 'will', 'be', 'passed', 'to', 'kubectl', 'command', 'to', 'create', 'pvc', 'pre', 'code', 'kind', 'apiversion', 'metadata', 'name', 'pvc', 'labels', 'ansible', 'spec', 'accessmodes', 'readwriteonce', 'resources', 'requests', 'storage', 'default', 'gi', 'sc', 'kind', 'apiversion', 'metadata', 'name', 'pvc', 'timestamp', 'labels', 'ansible', 'spec', 'accessmodes', 'readwriteonce', 'resources', 'requests', 'storage', 'default', 'gi', 'sc', 'code', 'pre', 'for', 'single', 'pvc', 'validation', 'am', 'using', 'below', 'ansible', 'code', 'pre', 'code', 'name', 'verify', 'whether', 'the', 'pvc', 'is', 'created', 'command', 'kubectl', 'get', 'pvc', 'pvcname', 'json', 'register', 'pvcresult', 'code', 'pre', 'as', 'the', 'pvc', 'generation', 'yml', 'is', 'dynamic', 'need', 'to', 'get', 'all', 'the', 'pvc', 'name', 'from', 'yml', 'then', 'validate', 'it', 'is', 'there', 'any', 'simple', 'way', 'there', 'to', 'check', 'whether', 'all', 'the', 'pvc', 'mentioned', 'in', 'the', 'yml', 'is', 'created'], ['am', 'new', 'to', 'using', 'ansible', 'playbooks', 'and', 'am', 'running', 'into', 'issues', 'in', 'accepting', 'license', 'agreements', 'with', 'splunk', 'any', 'time', 'have', 'shell', 'run', 'pre', 'code', 'opt', 'splunkforwarder', 'bin', 'splunk', 'start', 'accept', 'license', 'answer', 'yes', 'code', 'pre', 'get', 'continuous', 'lockup', 'that', 'forces', 'me', 'to', 'terminate', 'the', 'program', 'pre', 'code', 'task', 'acceptlicense', 'code', 'pre', 'going', 'into', 'the', 'box', 'and', 'running', 'the', 'command', 'manually', 'am', 'told', 'the', 'following', 'pre', 'code', 'root', 'lab_env', 'opt', 'splunkforwarder', 'bin', 'splunk', 'start', 'accept', 'license', 'answer', 'yes', 'this', 'appears', 'to', 'be', 'your', 'first', 'time', 'running', 'this', 'version', 'of', 'splunk', 'create', 'credentials', 'for', 'the', 'administrator', 'account', 'characters', 'do', 'not', 'appear', 'on', 'the', 'screen', 'when', 'you', 'type', 'the', 'password', 'password', 'must', 'contain', 'at', 'least', 'total', 'printable', 'ascii', 'character', 'please', 'enter', 'new', 'password', 'code', 'pre', 'have', 'gone', 'through', 'several', 'forums', 'online', 'that', 'give', 'help', 'in', 'answering', 'what', 'to', 'do', 'when', 'met', 'with', 'specific', 'prompts', 'like', 'this', 'but', 'anytime', 'make', 'an', 'adjustment', 'am', 'told', 'something', 'along', 'the', 'lines', 'of', 'blockquote', 'error', 'is', 'not', 'valid', 'attribute', 'for', 'task', 'blockquote', 'at', 'this', 'point', 'am', 'pretty', 'stuck', 'and', 'unsure', 'of', 'how', 'to', 'continue', 'my', 'code', 'snippet', 'is', 'as', 'follows', 'pre', 'code', 'hosts', 'hostname', 'become', 'true', 'become_user', 'root', 'become_method', 'sudo', 'tasks', 'name', 'copy_splunk', 'shell', 'cp', 'splunkforwarder', 'cac', 'linux', 'rpm', 'opt', 'date', 'ls', 'opt', 'args', 'chdir', 'tmp', 'register', 'run_ll', 'debug', 'var', 'run_ll', 'stdout_lines', 'name', 'install', 'rpm', 'package', 'shell', 'rpm', 'ivh', 'splunkforwarder', 'cac', 'linux', 'rpm', 'args', 'chdir', 'tmp', 'ignore_errors', 'true', 'register', 'install_rpm', 'debug', 'var', 'install_rpm', 'stdout_lines', 'name', 'acceptlicense', 'tags', 'install', 'shell', 'opt', 'splunkforwarder', 'bin', 'splunk', 'start', 'accept', 'license', 'answer', 'yes', 'register', 'accept_l', 'debug', 'var', 'accept_l', 'stdout_lines', 'code', 'pre', 'have', 'only', 'done', 'couple', 'of', 'playbooks', 'in', 'the', 'past', 'so', 'this', 'error', 'is', 'something', 'new', 'to', 'me', 'does', 'anyone', 'have', 'any', 'insight'], ['how', 'to', 'run', 'ansible', 'playbooks', 'and', 'commands', 'from', 'python', 'script', 'is', 'this', 'suggesgted', 'way', 'href', 'https', 'docs', 'ansible', 'com', 'ansible', 'latest', 'dev_guide', 'developing_api', 'html', 'python', 'api', 'example', 'rel', 'nofollow', 'noreferrer', 'https', 'docs', 'ansible', 'com', 'ansible', 'latest', 'dev_guide', 'developing_api', 'html', 'python', 'api', 'example', 'called', 'ansible', 'playbook', 'adhoc', 'commands', 'runs', 'smoothly', 'inside', 'python', 'script']]\n"
     ]
    }
   ],
   "source": [
    "# Tokenize words and text clean up\n",
    "def sent_to_words(sentences):\n",
    "    for sentence in sentences:\n",
    "        yield(gensim.utils.simple_preprocess(str(sentence), deacc=True))  # deacc=True removes punctuations\n",
    "\n",
    "data_words = list(sent_to_words(data))\n",
    "\n",
    "print(data_words[:3])"
   ]
  },
  {
   "cell_type": "code",
   "execution_count": 7,
   "metadata": {},
   "outputs": [
    {
     "name": "stdout",
     "output_type": "stream",
     "text": [
      "['have', 'the', 'following', 'ansible', 'playbooks', 'runwithdotslash', 'yml', 'pre', 'code', 'hosts', 'user', 'myhost', 'local', 'tasks', 'name', 'try', 'running', 'script', 'with', 'dot', 'slash', 'command', 'script', 'sh', 'code', 'pre', 'runwithsource', 'yml', 'pre', 'code', 'hosts', 'user', 'myhost', 'local', 'tasks', 'name', 'try', 'running', 'script', 'with', 'source', 'command', 'source', 'script', 'sh', 'code', 'pre', 'when', 'ssh', 'into', 'user', 'myhost', 'local', 'am', 'taken', 'to', 'the', 'home', 'directory', 'of', 'user', 'and', 'can', 'run', 'script', 'sh', 'both', 'with', 'dot', 'slash', 'and', 'with', 'source', 'however', 'only', 'the', 'first', 'playbook', 'works', 'am', 'running', 'the', 'playbooks', 'with', 'the', 'following', 'command', 'pre', 'code', 'ansible', 'playbook', 'runwithdotslash', 'yml', 'ansible', 'playbook', 'runwithsource', 'yml', 'code', 'pre', 'the', 'second', 'gives', 'the', 'following', 'error', 'message', 'pre', 'code', 'failed', 'gt', 'changed_false', 'cmd', 'source', 'script', 'shmsg', 'errno', 'no', 'such', 'file', 'or', 'directoryrc', 'code', 'pre', 'here', 'is', 'script', 'sh', 'which', 'is', 'in', 'the', 'home', 'directory', 'of', 'user', 'on', 'myhost', 'pre', 'code', 'bin_bash', 'echo', 'gt', 'code', 'pre', 'why', 'does', 'source', 'not', 'work', 'what', 'can', 'do', 'to', 'make', 'it', 'work']\n"
     ]
    }
   ],
   "source": [
    "# Build the bigram and trigram models\n",
    "bigram = gensim.models.Phrases(data_words, min_count=5, threshold=75) # higher threshold fewer phrases.\n",
    "trigram = gensim.models.Phrases(bigram[data_words], threshold=75)  \n",
    "\n",
    "# Faster way to get a sentence clubbed as a trigram/bigram\n",
    "bigram_mod = gensim.models.phrases.Phraser(bigram)\n",
    "trigram_mod = gensim.models.phrases.Phraser(trigram)\n",
    "\n",
    "# See trigram example\n",
    "print(trigram_mod[bigram_mod[data_words[3]]])"
   ]
  },
  {
   "cell_type": "code",
   "execution_count": 10,
   "metadata": {},
   "outputs": [],
   "source": [
    "# Define functions for stopwords, bigrams, trigrams and lemmatization\n",
    "def remove_stopwords(texts):\n",
    "    return [[word for word in simple_preprocess(str(doc)) if word not in stop_words] for doc in texts]\n",
    "\n",
    "def make_bigrams(texts):\n",
    "    return [bigram_mod[doc] for doc in texts]\n",
    "\n",
    "def make_trigrams(texts):\n",
    "    return [trigram_mod[bigram_mod[doc]] for doc in texts]\n",
    "\n",
    "def lemmatization(texts, allowed_postags=['NOUN', 'ADJ', 'VERB', 'ADV']):\n",
    "    \"\"\"https://spacy.io/api/annotation\"\"\"\n",
    "    texts_out = []\n",
    "    for sent in texts:\n",
    "        doc = nlp(\" \".join(sent)) \n",
    "        texts_out.append([token.lemma_ for token in doc if token.pos_ in allowed_postags])\n",
    "    return texts_out"
   ]
  },
  {
   "cell_type": "code",
   "execution_count": 11,
   "metadata": {},
   "outputs": [
    {
     "name": "stdout",
     "output_type": "stream",
     "text": [
      "[['create', 'pvc', 'use', 'yml', 'file', 'pvc', 'entry', 'create', 'dynamically', 'base', 'user', 'input', 'pvc', 'create', 'receive', 'input', 'accordingly', 'number', 'pvc', 'entry', 'create', 'yml', 'file', 'yml', 'file', 'pass', 'kubectl', 'command', 'create', 'pvc', 'pre', 'code', 'kind', 'apiversion', 'metadata', 'name', 'pvc', 'label', 'ansible', 'spec', 'accessmode', 'readwriteonce', 'resource', 'request', 'storage', 'default', 'gi', 'kind', 'apiversion', 'metadata', 'name', 'pvc', 'timestamp', 'label', 'ansible', 'spec', 'accessmode', 'readwriteonce', 'resource', 'request', 'storage', 'default', 'sc', 'code', 'pre', 'single', 'pvc', 'validation', 'use', 'ansible', 'code', 'pre', 'code', 'name', 'verify', 'pvc', 'create', 'command', 'kubectl', 'get', 'pvc', 'pvcname', 'json', 'register', 'pvcresult', 'code', 'pre', 'pvc', 'generation', 'yml', 'dynamic', 'need', 'get', 'pvc', 'name', 'yml', 'validate', 'simple', 'way', 'check', 'pvc', 'mention', 'yml', 'create'], ['new', 'use', 'ansible', 'playbook', 'run', 'issue', 'accept', 'license', 'agreement', 'splunk', 'time', 'shell', 'run', 'pre', 'code', 'opt', 'splunkforwarder', 'bin', 'splunk', 'start', 'accept', 'license', 'answer', 'code', 'get', 'continuous', 'lockup', 'force', 'terminate', 'program', 'pre', 'code', 'task', 'acceptlicense', 'code', 'pre', 'go', 'box', 'run', 'command', 'manually', 'tell', 'follow', 'pre', 'code', 'root', 'opt', 'splunkforwarder', 'bin', 'splunk', 'start', 'accept', 'license', 'answer', 'appear', 'first', 'time', 'run', 'version', 'splunk', 'create', 'credential', 'administrator', 'account', 'character', 'appear', 'screen', 'type', 'password', 'password', 'contain', 'least', 'total', 'printable', 'ascii', 'character', 'enter', 'new', 'password', 'code', 'go', 'several', 'forum', 'online', 'give', 'help', 'answer', 'meet', 'specific', 'prompt', 'anytime', 'make', 'adjustment', 'tell', 'line', 'blockquote', 'error', 'valid', 'attribute', 'task', 'blockquote', 'point', 'pretty', 'stuck', 'unsure', 'continue', 'code', 'snippet', 'follow', 'pre', 'code', 'host', 'hostname', 'become', 'true', 'become_user', 'root', 'task', 'name', 'copy_splunk', 'shell', 'splunkforwarder', 'cac', 'linux', 'rpm', 'opt', 'date', 'opt', 'tmp', 'register', 'name', 'install', 'rpm', 'package', 'shell', 'rpm', 'ivh', 'splunkforwarder', 'cac', 'linux', 'rpm', 'args_chdir', 'tmp', 'ignore_error', 'true', 'register', 'install_rpm', 'debug_var', 'install_rpm', 'name', 'acceptlicense', 'tag', 'install', 'shell', 'opt', 'splunkforwarder', 'bin', 'splunk', 'start', 'accept', 'license', 'answer', 'register', 'debug_var', 'code', 'pre', 'do', 'couple', 'playbook', 'error', 'new', 'insight']]\n"
     ]
    }
   ],
   "source": [
    "data_words_nostops = remove_stopwords(data_words)\n",
    "\n",
    "# Form Bigrams\n",
    "data_words_bigrams = make_bigrams(data_words_nostops)\n",
    "\n",
    "# Initialize spacy 'en' model, keeping only tagger component (for efficiency)\n",
    "# python3 -m spacy download en\n",
    "nlp = spacy.load('en_core_web_sm', disable=['parser', 'ner'])\n",
    "#spacy.load('en_core_web_sm')\n",
    "\n",
    "# Do lemmatization keeping only noun, adj, vb, adv\n",
    "data_lemmatized = lemmatization(data_words_bigrams, allowed_postags=['NOUN', 'ADJ', 'VERB', 'ADV'])\n",
    "\n",
    "print(data_lemmatized[:2])\n",
    "\n",
    "#reviews_datasets['topics']=data_lemmatized\n",
    "#reviews_datasets['obody']=obody\n",
    "#reviews_datasets.head(20)\n",
    "#reset option to default value\n",
    "\n",
    "\n",
    "#reviews_datasets.to_csv(\"D:\\\\output1.csv\")"
   ]
  },
  {
   "cell_type": "code",
   "execution_count": 12,
   "metadata": {},
   "outputs": [
    {
     "name": "stdout",
     "output_type": "stream",
     "text": [
      "[[(0, 2), (1, 1), (2, 3), (3, 2), (4, 1), (5, 1), (6, 5), (7, 2), (8, 7), (9, 2), (10, 1), (11, 1), (12, 2), (13, 3), (14, 1), (15, 2), (16, 1), (17, 2), (18, 1), (19, 2), (20, 2), (21, 2), (22, 1), (23, 2), (24, 4), (25, 1), (26, 1), (27, 1), (28, 4), (29, 13), (30, 1), (31, 1), (32, 2), (33, 1), (34, 1), (35, 2), (36, 2), (37, 1), (38, 1), (39, 1), (40, 2), (41, 2), (42, 1), (43, 2), (44, 1), (45, 1), (46, 1), (47, 1), (48, 1), (49, 6)]]\n"
     ]
    }
   ],
   "source": [
    "# Create Dictionary\n",
    "id2word = corpora.Dictionary(data_lemmatized)\n",
    "\n",
    "# Create Corpus\n",
    "texts = data_lemmatized\n",
    "\n",
    "# Term Document Frequency\n",
    "corpus = [id2word.doc2bow(text) for text in texts]\n",
    "\n",
    "# View\n",
    "print(corpus[:1])"
   ]
  },
  {
   "cell_type": "code",
   "execution_count": 13,
   "metadata": {},
   "outputs": [],
   "source": [
    "# Build LDA model\n",
    "lda_model = gensim.models.ldamodel.LdaModel(corpus=corpus,\n",
    "                                           id2word=id2word,\n",
    "                                           num_topics=15, \n",
    "                                           random_state=100,\n",
    "                                           update_every=1,\n",
    "                                           chunksize=100,\n",
    "                                           passes=10,\n",
    "                                           alpha='auto',\n",
    "                                            eval_every=10,\n",
    "                                           per_word_topics=True)"
   ]
  },
  {
   "cell_type": "code",
   "execution_count": 21,
   "metadata": {},
   "outputs": [
    {
     "name": "stdout",
     "output_type": "stream",
     "text": [
      "[(0, '0.049*\"ansible\" + 0.022*\"playbook\" + 0.021*\"blockquote\" + 0.013*\"run\" + 0.012*\"testworkflow\" + 0.012*\"api\" + 0.012*\"job\" + 0.012*\"d\" + 0.012*\"handler\" + 0.010*\"html\"'), (1, '0.066*\"code\" + 0.044*\"pre\" + 0.042*\"host\" + 0.028*\"gt\" + 0.026*\"name\" + 0.022*\"list\" + 0.022*\"output\" + 0.022*\"item\" + 0.018*\"get\" + 0.017*\"ansible\"'), (2, '0.058*\"code\" + 0.047*\"ansible\" + 0.024*\"pre\" + 0.020*\"use\" + 0.017*\"li\" + 0.014*\"playbook\" + 0.013*\"server\" + 0.011*\"host\" + 0.010*\"try\" + 0.009*\"python\"'), (3, '0.024*\"image\" + 0.021*\"start\" + 0.017*\"ami\" + 0.013*\"various\" + 0.010*\"ec\" + 0.010*\"build\" + 0.010*\"vagrant\" + 0.009*\"tar\" + 0.008*\"other\" + 0.008*\"format\"'), (4, '0.029*\"log\" + 0.024*\"ansible\" + 0.024*\"code\" + 0.022*\"string\" + 0.018*\"new\" + 0.018*\"terraform\" + 0.016*\"key\" + 0.015*\"install\" + 0.014*\"pre\" + 0.013*\"name\"'), (5, '0.051*\"true\" + 0.035*\"null\" + 0.035*\"result\" + 0.030*\"code\" + 0.026*\"pre\" + 0.026*\"fail\" + 0.025*\"item\" + 0.018*\"falconctl\" + 0.017*\"false\" + 0.014*\"ncat\"'), (6, '0.051*\"group\" + 0.024*\"shell\" + 0.024*\"loop\" + 0.022*\"testuser\" + 0.022*\"addmember\" + 0.019*\"split\" + 0.019*\"group_var\" + 0.017*\"param\" + 0.016*\"temp_asdtech\" + 0.016*\"exe\"'), (7, '0.035*\"code\" + 0.034*\"rule\" + 0.033*\"pre\" + 0.029*\"opt\" + 0.024*\"dict\" + 0.020*\"key\" + 0.016*\"value\" + 0.016*\"splunk\" + 0.013*\"follow\" + 0.012*\"awk\"'), (8, '0.034*\"maven\" + 0.026*\"mvn\" + 0.015*\"opt\" + 0.008*\"previously\" + 0.008*\"amd\" + 0.004*\"aff\" + 0.004*\"locale\" + 0.004*\"en_us\" + 0.004*\"maven_home\" + 0.004*\"kepps\"'), (9, '0.048*\"code\" + 0.043*\"pre\" + 0.036*\"group\" + 0.033*\"role\" + 0.017*\"playbook\" + 0.017*\"line\" + 0.016*\"strong\" + 0.015*\"tag\" + 0.015*\"test\" + 0.013*\"add\"'), (10, '0.038*\"code\" + 0.034*\"file\" + 0.025*\"name\" + 0.025*\"pre\" + 0.024*\"default\" + 0.021*\"false\" + 0.018*\"stat\" + 0.016*\"job\" + 0.014*\"proxy\" + 0.013*\"image\"'), (11, '0.082*\"code\" + 0.045*\"pre\" + 0.037*\"name\" + 0.025*\"file\" + 0.020*\"task\" + 0.015*\"use\" + 0.015*\"host\" + 0.014*\"playbook\" + 0.014*\"ansible\" + 0.014*\"error\"'), (12, '0.027*\"target\" + 0.014*\"cookie\" + 0.013*\"gt\" + 0.013*\"config\" + 0.011*\"routeid\" + 0.011*\"machine\" + 0.008*\"block\" + 0.008*\"different\" + 0.007*\"text\" + 0.006*\"url\"'), (13, '0.039*\"code\" + 0.034*\"ansible\" + 0.032*\"host\" + 0.029*\"name\" + 0.028*\"pre\" + 0.021*\"test\" + 0.016*\"command\" + 0.015*\"fail\" + 0.013*\"module\" + 0.013*\"playbook\"'), (14, '0.079*\"ansible\" + 0.050*\"code\" + 0.026*\"disk\" + 0.025*\"pre\" + 0.025*\"playbook\" + 0.024*\"cfg\" + 0.024*\"file\" + 0.022*\"plugin\" + 0.021*\"self\" + 0.018*\"inventory\"')]\n"
     ]
    }
   ],
   "source": [
    "# Print the Keyword in the 15 topics\n",
    "print(lda_model.print_topics())\n",
    "doc_lda = lda_model[corpus]"
   ]
  },
  {
   "cell_type": "code",
   "execution_count": 22,
   "metadata": {},
   "outputs": [
    {
     "name": "stdout",
     "output_type": "stream",
     "text": [
      "\n",
      "Perplexity:  -7.7205923814102215\n",
      "\n",
      "Coherence Score:  0.39868242811989313\n"
     ]
    }
   ],
   "source": [
    "# Compute Perplexity\n",
    "print('\\nPerplexity: ', lda_model.log_perplexity(corpus))  # a measure of how good the model is. lower the better.\n",
    "\n",
    "# Compute Coherence Score\n",
    "coherence_model_lda = CoherenceModel(model=lda_model, texts=data_lemmatized, dictionary=id2word, coherence='c_v')\n",
    "coherence_lda = coherence_model_lda.get_coherence()\n",
    "print('\\nCoherence Score: ', coherence_lda)"
   ]
  },
  {
   "cell_type": "code",
   "execution_count": 14,
   "metadata": {},
   "outputs": [],
   "source": [
    "# Download File: http://mallet.cs.umass.edu/dist/mallet-2.0.8.zip\n",
    "#mallet_path = 'D:/mallet-2.0.8/bin/mallet' # update this path\n",
    "#lda_mallet = gensim.models.wrappers.LdaMallet(mallet_path, corpus=corpus, num_topics=15, id2word=id2word, optimize_interval=10, iterations=1000)\n",
    "\n",
    "import os\n",
    "from gensim.models.wrappers import LdaMallet\n",
    "\n",
    "os.environ['MALLET_HOME'] = 'F:\\\\mallet-2.0.8'\n",
    "\n",
    "mallet_path = 'F:\\\\mallet-2.0.8\\\\bin\\\\mallet'\n",
    "#ldamallet_test = gensim.models.wrappers.LdaMallet(mallet_path, corpus=corpus, num_topics=20, id2word=dictionary_test)\n",
    "lda_mallet = gensim.models.wrappers.LdaMallet(mallet_path, corpus=corpus, num_topics=15, id2word=id2word, optimize_interval=10, iterations=1000)"
   ]
  },
  {
   "cell_type": "code",
   "execution_count": 15,
   "metadata": {},
   "outputs": [
    {
     "name": "stdout",
     "output_type": "stream",
     "text": [
      "[(0, [('window', 0.02774813233724653), ('user', 0.026680896478121666), ('root', 0.02454642475987193), ('become_user', 0.021344717182497332), ('pulseaudio', 0.021344717182497332), ('shell', 0.0192102454642476), ('register', 0.0192102454642476), ('fail', 0.01814300960512273), ('task', 0.017075773745997867), ('restart', 0.014941302027748132), ('password', 0.013874066168623266), ('myuser', 0.011739594450373533), ('true', 0.010672358591248666), ('eq_exit', 0.010672358591248666), ('machine', 0.010672358591248666), ('install', 0.010672358591248666), ('temp_asdtech', 0.0096051227321238), ('code', 0.0096051227321238), ('linux', 0.008537886872998933), ('powershell', 0.008537886872998933)]), (1, [('group', 0.0738255033557047), ('script', 0.02953020134228188), ('output', 0.028187919463087248), ('sid', 0.01879194630872483), ('param', 0.0174496644295302), ('li', 0.0174496644295302), ('hname', 0.01476510067114094), ('jenkin', 0.013422818791946308), ('item', 0.013422818791946308), ('url', 0.013422818791946308), ('child', 0.012080536912751677), ('line_char', 0.012080536912751677), ('addmember', 0.012080536912751677), ('group_var', 0.012080536912751677), ('hostvar', 0.010738255033557046), ('def', 0.010738255033557046), ('miss', 0.010738255033557046), ('node', 0.009395973154362415), ('path', 0.009395973154362415), ('expression', 0.009395973154362415)]), (2, [('ansible', 0.11959654178674352), ('cfg', 0.027377521613832854), ('home', 0.025936599423631124), ('ssh', 0.02377521613832853), ('host', 0.021613832853025938), ('connection', 0.02089337175792507), ('plugin', 0.020172910662824207), ('user', 0.019452449567723344), ('py_line', 0.012968299711815562), ('usr', 0.012968299711815562), ('file', 0.012968299711815562), ('fail', 0.012247838616714697), ('python', 0.011527377521613832), ('port', 0.011527377521613832), ('connect', 0.010806916426512969), ('source', 0.010806916426512969), ('module', 0.010086455331412104), ('unreachable', 0.010086455331412104), ('ndebug', 0.010086455331412104), ('backup', 0.010086455331412104)]), (3, [('code', 0.16017609210971892), ('pre', 0.07873349136471385), ('playbook', 0.04216051473078226), ('host', 0.039282086014222825), ('ansible', 0.03606501862512699), ('file', 0.03183203521842194), ('task', 0.029292245174398917), ('run', 0.027260413139180494), ('role', 0.019979681679647816), ('error', 0.016085336945479173), ('yml', 0.015069420927869963), ('command', 0.01388418557399255), ('work', 0.012698950220115137), ('var', 0.012698950220115137), ('variable', 0.010836437521164918), ('test', 0.010497798848628514), ('create', 0.010497798848628514), ('set', 0.009143244158482899), ('inventory', 0.008973924822214697), ('gt', 0.008973924822214697)]), (4, [('file', 0.03664416586306654), ('copy', 0.03085824493731919), ('tmp', 0.027965284474445518), ('usr', 0.02507232401157184), ('root', 0.024108003857280617), ('local', 0.023143683702989394), ('opt', 0.023143683702989394), ('strong', 0.022179363548698167), ('remote', 0.021215043394406944), ('path', 0.017357762777242044), ('directory', 0.015429122468659595), ('job', 0.013500482160077145), ('module', 0.013500482160077145), ('server', 0.01253616200578592), ('bin', 0.01253616200578592), ('splunk', 0.011571841851494697), ('vhost', 0.010607521697203472), ('system', 0.010607521697203472), ('nslookup', 0.010607521697203472), ('destination', 0.009643201542912247)]), (5, [('ansible', 0.061381074168797956), ('python', 0.03324808184143223), ('package', 0.0319693094629156), ('terraform', 0.026854219948849106), ('inventory', 0.02557544757033248), ('install', 0.024296675191815855), ('loader', 0.024296675191815855), ('plugin', 0.020460358056265986), ('ubuntu', 0.01918158567774936), ('option', 0.016624040920716114), ('tool', 0.01278772378516624), ('password', 0.011508951406649617), ('rel_nofollow', 0.010230179028132993), ('installed_depend', 0.010230179028132993), ('provisioner', 0.010230179028132993), ('noreferrer', 0.008951406649616368), ('apt', 0.008951406649616368), ('problem', 0.008951406649616368), ('change', 0.008951406649616368), ('version', 0.008951406649616368)]), (6, [('host', 0.09554140127388536), ('disk', 0.052547770700636945), ('test', 0.030254777070063694), ('mac', 0.025477707006369428), ('ipv_addr', 0.025477707006369428), ('ansible_fact', 0.01910828025477707), ('mac_address', 0.01592356687898089), ('niosip', 0.01592356687898089), ('partition', 0.014331210191082803), ('zg_zlmhvc', 0.012738853503184714), ('sda', 0.012738853503184714), ('snat_awxt', 0.012738853503184714), ('fact', 0.012738853503184714), ('addr', 0.012738853503184714), ('pre', 0.012738853503184714), ('rhel', 0.011146496815286623), ('filter', 0.011146496815286623), ('define', 0.011146496815286623), ('return', 0.011146496815286623), ('recordhost', 0.011146496815286623)]), (7, [('code', 0.07407407407407407), ('pre', 0.07083333333333333), ('item', 0.04953703703703704), ('result', 0.038425925925925926), ('list', 0.03194444444444444), ('gt', 0.03194444444444444), ('loop', 0.031018518518518518), ('msg', 0.02638888888888889), ('output', 0.02175925925925926), ('debug', 0.020370370370370372), ('json', 0.01990740740740741), ('true', 0.018055555555555554), ('key', 0.015277777777777777), ('false', 0.014814814814814815), ('strong', 0.013888888888888888), ('shell', 0.013888888888888888), ('fail', 0.013425925925925926), ('register', 0.012962962962962963), ('check', 0.011574074074074073), ('stdout', 0.011111111111111112)]), (8, [('true', 0.04791929382093316), ('null', 0.025220680958385876), ('master', 0.02269861286254729), ('add', 0.0201765447667087), ('ec', 0.018915510718789406), ('ncat', 0.017654476670870115), ('hostname', 0.017654476670870115), ('end', 0.017654476670870115), ('instance', 0.01639344262295082), ('fail', 0.01639344262295082), ('falconctl', 0.015132408575031526), ('vmware', 0.013871374527112233), ('test', 0.013871374527112233), ('tag', 0.012610340479192938), ('register', 0.012610340479192938), ('localhost', 0.011349306431273645), ('server', 0.011349306431273645), ('false', 0.011349306431273645), ('https', 0.011349306431273645), ('worker', 0.01008827238335435)]), (9, [('user', 0.027565084226646247), ('directory', 0.021439509954058193), ('create', 0.021439509954058193), ('pvc', 0.019908116385911178), ('json', 0.018376722817764167), ('adom', 0.018376722817764167), ('query', 0.018376722817764167), ('api', 0.016845329249617153), ('post', 0.016845329249617153), ('register', 0.016845329249617153), ('image', 0.016845329249617153), ('method', 0.013782542113323124), ('log', 0.013782542113323124), ('function', 0.01225114854517611), ('login', 0.01225114854517611), ('datum', 0.01225114854517611), ('username', 0.010719754977029096), ('resource', 0.010719754977029096), ('defer', 0.010719754977029096), ('uri', 0.010719754977029096)]), (10, [('string', 0.05353728489483748), ('typeattr', 0.032504780114722756), ('error', 0.030592734225621414), ('bla_nameattr', 0.028680688336520075), ('handler', 0.02676864244741874), ('var', 0.019120458891013385), ('_', 0.019120458891013385), ('message', 0.017208413001912046), ('type', 0.015296367112810707), ('localhost', 0.015296367112810707), ('depend', 0.011472275334608031), ('gather', 0.011472275334608031), ('problem', 0.009560229445506692), ('exact_syntax', 0.009560229445506692), ('interface', 0.009560229445506692), ('type_typ', 0.009560229445506692), ('mysql', 0.009560229445506692), ('hostname', 0.009560229445506692), ('service', 0.009560229445506692), ('sample', 0.009560229445506692)]), (11, [('code', 0.044009779951100246), ('pre', 0.042787286063569685), ('user', 0.03300733496332518), ('_', 0.03178484107579462), ('create', 0.02444987775061125), ('airflow', 0.023227383863080684), ('command', 0.02078239608801956), ('follow', 0.02078239608801956), ('group', 0.019559902200488997), ('index', 0.017114914425427872), ('environment', 0.017114914425427872), ('ansible', 0.01589242053789731), ('database', 0.01589242053789731), ('shell', 0.014669926650366748), ('error', 0.012224938875305624), ('fail', 0.012224938875305624), ('fatal', 0.012224938875305624), ('gt', 0.012224938875305624), ('home', 0.011002444987775062), ('postgresql', 0.011002444987775062)]), (12, [('service', 0.040735873850197106), ('docker', 0.030223390275952694), ('server', 0.026281208935611037), ('image', 0.024967148488830485), ('key', 0.02102496714848883), ('environment', 0.01576872536136662), ('install', 0.01576872536136662), ('start', 0.01445466491458607), ('instance', 0.01445466491458607), ('repository', 0.01445466491458607), ('container', 0.013140604467805518), ('gce', 0.013140604467805518), ('https', 0.011826544021024968), ('make', 0.011826544021024968), ('command', 0.010512483574244415), ('registry', 0.010512483574244415), ('pull', 0.009198423127463863), ('tempfile', 0.009198423127463863), ('json', 0.009198423127463863), ('machine', 0.009198423127463863)]), (13, [('ansible', 0.10893246187363835), ('li', 0.06535947712418301), ('server', 0.03812636165577342), ('module', 0.029411764705882353), ('file', 0.026143790849673203), ('doc', 0.02178649237472767), ('late', 0.018518518518518517), ('test', 0.015250544662309368), ('html', 0.013071895424836602), ('api', 0.013071895424836602), ('http', 0.011982570806100218), ('ol', 0.011982570806100218), ('wait', 0.011982570806100218), ('html_rel', 0.011982570806100218), ('timeout', 0.010893246187363835), ('python', 0.010893246187363835), ('step', 0.00980392156862745), ('arg', 0.00980392156862745), ('rel_nofollow', 0.008714596949891068), ('aws_region', 0.007625272331154684)]), (14, [('pre', 0.03948896631823461), ('code', 0.03832752613240418), ('file', 0.036004645760743324), ('default', 0.032520325203252036), ('env', 0.029036004645760744), ('line', 0.025551684088269456), ('define', 0.023228803716608595), ('false', 0.020905923344947737), ('replace', 0.020905923344947737), ('ansible_fqdn', 0.020905923344947737), ('rule', 0.020905923344947737), ('add', 0.015098722415795587), ('stat', 0.015098722415795587), ('eth_eth', 0.013937282229965157), ('network', 0.013937282229965157), ('proxy', 0.012775842044134728), ('present', 0.012775842044134728), ('dhttp', 0.010452961672473868), ('vlan', 0.010452961672473868), ('setting', 0.010452961672473868)])]\n",
      "\n",
      "Coherence Score:  0.3633328405030704\n"
     ]
    }
   ],
   "source": [
    "# Show Topics\n",
    "print(lda_mallet.show_topics(num_topics=-1, num_words=20, formatted=False))\n",
    "\n",
    "# Compute Coherence Score\n",
    "coherence_model_ldamallet = CoherenceModel(model=lda_mallet, texts=data_lemmatized, dictionary=id2word, coherence='c_v')\n",
    "coherence_ldamallet = coherence_model_ldamallet.get_coherence()\n",
    "print('\\nCoherence Score: ', coherence_ldamallet)"
   ]
  },
  {
   "cell_type": "code",
   "execution_count": 43,
   "metadata": {},
   "outputs": [],
   "source": [
    "def format_topics_sentences(ldamodel=lda_mallet, corpus=corpus, texts=data_lemmatized):\n",
    "    # Init output\n",
    "    sent_topics_df = pd.DataFrame()\n",
    "\n",
    "    # Get main topic in each document\n",
    "    for i, row in enumerate(ldamodel[corpus]):\n",
    "        row = sorted(row, key=lambda x: (x[1]), reverse=True)\n",
    "        # Get the Dominant topic, Perc Contribution and Keywords for each document\n",
    "        for j, (topic_num, prop_topic) in enumerate(row):\n",
    "            if j == 0:  # => dominant topic\n",
    "                wp = ldamodel.show_topic(topic_num)\n",
    "                topic_keywords = \", \".join([word for word, prop in wp])\n",
    "                sent_topics_df = sent_topics_df.append(pd.Series([int(topic_num), round(prop_topic,4), topic_keywords]), ignore_index=True)\n",
    "            else:\n",
    "                break\n",
    "    sent_topics_df.columns = ['Dominant_Topic', 'Perc_Contribution', 'Topic_Keywords']\n",
    "\n",
    "    # Add original text to the end of the output\n",
    "    contents = pd.Series(texts)\n",
    "    sent_topics_df = pd.concat([sent_topics_df, contents], axis=1)\n",
    "    return(sent_topics_df)\n",
    "\n",
    "\n",
    "df_topic_sents_keywords = format_topics_sentences(ldamodel=lda_mallet, corpus=corpus, texts=obody)\n",
    "\n",
    "# Format\n",
    "df_dominant_topic = df_topic_sents_keywords.reset_index()\n",
    "df_dominant_topic.columns = ['Document_No', 'Dominant_Topic', 'Topic_Perc_Contrib', 'Keywords', 'Text']\n",
    "df_dominant_topic.head()\n",
    "#print(df_dominant_topic)\n",
    "# Show\n",
    "#df_dominant_topic.head(10)\n",
    "df_dominant_topic.to_csv(\"D:\\\\output_topics_keyword_Including_body_060321.csv\")"
   ]
  },
  {
   "cell_type": "code",
   "execution_count": 41,
   "metadata": {},
   "outputs": [
    {
     "name": "stdout",
     "output_type": "stream",
     "text": [
      "Keywords                                                                                  Dominant_Topic\n",
      "ansible, cfg, home, ssh, host, connection, plugin, user, usr, file                        2.0                2\n",
      "ansible, li, server, module, file, doc, late, test, api, html                             13.0              13\n",
      "ansible, python, package, terraform, inventory, install, loader, plugin, ubuntu, option   5.0                5\n",
      "code, pre, item, result, list, gt, loop, msg, output, debug                               7.0                7\n",
      "code, pre, playbook, host, ansible, file, task, run, role, error                          3.0                3\n",
      "code, pre, user, _, create, airflow, follow, command, group, index                        11.0              11\n",
      "file, copy, tmp, usr, root, local, opt, strong, remote, path                              4.0                4\n",
      "group, script, output, sid, param, li, hname, item, url, jenkin                           1.0                1\n",
      "host, disk, test, mac, ipv_addr, ansible_fact, mac_address, niosip, partition, snat_awxt  6.0                6\n",
      "pre, code, file, default, env, line, define, replace, ansible_fqdn, false                 14.0              14\n",
      "service, docker, server, image, key, environment, install, start, instance, repository    12.0              12\n",
      "string, typeattr, error, bla_nameattr, handler, var, _, message, type, localhost          10.0              10\n",
      "true, null, master, add, ec, end, hostname, ncat, fail, instance                          8.0                8\n",
      "user, directory, create, pvc, json, adom, query, register, image, post                    9.0                9\n",
      "window, user, root, pulseaudio, become_user, shell, register, fail, task, restart         0.0                0\n",
      "Name: Dominant_Topic, dtype: int32\n"
     ]
    }
   ],
   "source": [
    "# Python Topics Modeling\n",
    "python_topics_modeling = df_dominant_topic.groupby(['Keywords','Dominant_Topic'])['Dominant_Topic'].mean().astype(int)\n",
    "print(python_topics_modeling)\n",
    "\n",
    "\n",
    "\n",
    "# Topics Wise average (View)\n",
    "averag_view_wise_topics = average_wise_topcs = df_dominant_topic.groupby('Keywords')['Text'].mean().astype(int)\n",
    "#print(averag_view_wise_topics)\n",
    "\n",
    "#average_wise_topcs.sort_index(ascending =False)\n",
    "\n",
    "# Topics Wise sum (View)\n",
    "#df_dominant_topic.groupby('Keywords')['Text'].sum()\n",
    "\n"
   ]
  },
  {
   "cell_type": "code",
   "execution_count": 39,
   "metadata": {},
   "outputs": [],
   "source": [
    "averag_view_wise_topics.to_csv(\"D:\\\\view_wise_topics_modeling.csv\")"
   ]
  },
  {
   "cell_type": "code",
   "execution_count": null,
   "metadata": {},
   "outputs": [],
   "source": []
  }
 ],
 "metadata": {
  "kernelspec": {
   "display_name": "Python 3",
   "language": "python",
   "name": "python3"
  },
  "language_info": {
   "codemirror_mode": {
    "name": "ipython",
    "version": 3
   },
   "file_extension": ".py",
   "mimetype": "text/x-python",
   "name": "python",
   "nbconvert_exporter": "python",
   "pygments_lexer": "ipython3",
   "version": "3.8.3"
  }
 },
 "nbformat": 4,
 "nbformat_minor": 4
}
